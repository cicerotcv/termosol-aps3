{
 "cells": [
  {
   "cell_type": "code",
   "execution_count": 1,
   "id": "analyzed-change",
   "metadata": {},
   "outputs": [],
   "source": [
    "from math import sqrt\n",
    "import numpy as np\n",
    "\n",
    "from funcoesTermosol import plota, importa, geraSaida\n",
    "from auxiliar import insert, gauss_seidel\n",
    "import solver\n",
    "from solver import Node, Element, System"
   ]
  },
  {
   "cell_type": "code",
   "execution_count": 2,
   "id": "coastal-effort",
   "metadata": {},
   "outputs": [],
   "source": [
    "# gera saida \n",
    "# R -> matriz com as restrições \n",
    "\n",
    "nn,N,nm,Inc,nc,F,nr,R = importa(\"entrada.xlsx\")"
   ]
  },
  {
   "cell_type": "code",
   "execution_count": 3,
   "id": "suspected-animation",
   "metadata": {},
   "outputs": [],
   "source": [
    "system = System(debug=True)"
   ]
  },
  {
   "cell_type": "markdown",
   "id": "first-carter",
   "metadata": {},
   "source": [
    "### Adição de nós ao sistema"
   ]
  },
  {
   "cell_type": "code",
   "execution_count": 4,
   "id": "gentle-tribute",
   "metadata": {},
   "outputs": [
    {
     "name": "stdout",
     "output_type": "stream",
     "text": [
      "[SYS] created node: ○ 1 (0.0, 0.0)\n",
      "[SYS] created node: ○ 2 (1.0, 0.0)\n",
      "[SYS] created node: ○ 3 (2.0, 0.0)\n",
      "[SYS] created node: ○ 4 (3.0, 0.0)\n",
      "[SYS] created node: ○ 5 (4.0, 0.0)\n",
      "[SYS] created node: ○ 6 (3.0, 1.0)\n",
      "[SYS] created node: ○ 7 (2.0, 2.0)\n",
      "[SYS] created node: ○ 8 (1.0, 1.0)\n",
      "[SYS] created node: ○ 9 (2.0, 1.0)\n"
     ]
    }
   ],
   "source": [
    "for x, y in N.T:\n",
    "    system.add_node(x, y)"
   ]
  },
  {
   "cell_type": "markdown",
   "id": "falling-crown",
   "metadata": {},
   "source": [
    "### Adição de elementos ao sitema"
   ]
  },
  {
   "cell_type": "code",
   "execution_count": 5,
   "id": "accompanied-former",
   "metadata": {},
   "outputs": [
    {
     "name": "stdout",
     "output_type": "stream",
     "text": [
      "[SYS] created element: 1 ○--(1)--○ 2; E = 210000000000.0 Pa; A = 0.0225 m²\n",
      "[SYS] created element: 2 ○--(2)--○ 3; E = 210000000000.0 Pa; A = 0.0225 m²\n",
      "[SYS] created element: 3 ○--(3)--○ 4; E = 210000000000.0 Pa; A = 0.0225 m²\n",
      "[SYS] created element: 4 ○--(4)--○ 5; E = 210000000000.0 Pa; A = 0.0225 m²\n",
      "[SYS] created element: 5 ○--(5)--○ 6; E = 210000000000.0 Pa; A = 0.0225 m²\n",
      "[SYS] created element: 6 ○--(6)--○ 7; E = 210000000000.0 Pa; A = 0.0225 m²\n",
      "[SYS] created element: 7 ○--(7)--○ 8; E = 210000000000.0 Pa; A = 0.0225 m²\n",
      "[SYS] created element: 8 ○--(8)--○ 1; E = 210000000000.0 Pa; A = 0.0225 m²\n",
      "[SYS] created element: 2 ○--(9)--○ 8; E = 210000000000.0 Pa; A = 0.0225 m²\n",
      "[SYS] created element: 2 ○--(10)--○ 9; E = 210000000000.0 Pa; A = 0.0225 m²\n",
      "[SYS] created element: 3 ○--(11)--○ 9; E = 210000000000.0 Pa; A = 0.0225 m²\n",
      "[SYS] created element: 9 ○--(12)--○ 4; E = 210000000000.0 Pa; A = 0.0225 m²\n",
      "[SYS] created element: 4 ○--(13)--○ 6; E = 210000000000.0 Pa; A = 0.0225 m²\n",
      "[SYS] created element: 9 ○--(14)--○ 6; E = 210000000000.0 Pa; A = 0.0225 m²\n",
      "[SYS] created element: 8 ○--(15)--○ 9; E = 210000000000.0 Pa; A = 0.0225 m²\n",
      "[SYS] created element: 9 ○--(16)--○ 7; E = 210000000000.0 Pa; A = 0.0225 m²\n"
     ]
    }
   ],
   "source": [
    "for n1, n2, elasticity, area in Inc:\n",
    "    # .define_element recebe os dois nós entre os quais se define o elemento\n",
    "    system.define_element(int(n1), int(n2), elasticity, area)"
   ]
  },
  {
   "cell_type": "code",
   "execution_count": 28,
   "id": "optional-bachelor",
   "metadata": {
    "scrolled": true
   },
   "outputs": [
    {
     "name": "stdout",
     "output_type": "stream",
     "text": [
      "Matriz de nós:\n",
      "[[0. 1. 2. 3. 4. 3. 2. 1. 2.]\n",
      " [0. 0. 0. 0. 0. 1. 2. 1. 1.]]\n"
     ]
    }
   ],
   "source": [
    "print(\"Matriz de nós:\")\n",
    "print(system.N)"
   ]
  },
  {
   "cell_type": "code",
   "execution_count": 29,
   "id": "leading-paint",
   "metadata": {
    "scrolled": true
   },
   "outputs": [
    {
     "name": "stdout",
     "output_type": "stream",
     "text": [
      "Matriz de conectividade:\n",
      "[[-1  0  0  0  0  0  0  1  0  0  0  0  0  0  0  0]\n",
      " [ 1 -1  0  0  0  0  0  0 -1 -1  0  0  0  0  0  0]\n",
      " [ 0  1 -1  0  0  0  0  0  0  0 -1  0  0  0  0  0]\n",
      " [ 0  0  1 -1  0  0  0  0  0  0  0  1 -1  0  0  0]\n",
      " [ 0  0  0  1 -1  0  0  0  0  0  0  0  0  0  0  0]\n",
      " [ 0  0  0  0  1 -1  0  0  0  0  0  0  1  1  0  0]\n",
      " [ 0  0  0  0  0  1 -1  0  0  0  0  0  0  0  0  1]\n",
      " [ 0  0  0  0  0  0  1 -1  1  0  0  0  0  0 -1  0]\n",
      " [ 0  0  0  0  0  0  0  0  0  1  1 -1  0 -1  1 -1]]\n"
     ]
    }
   ],
   "source": [
    "print(\"Matriz de conectividade:\")\n",
    "print(system.C.T)"
   ]
  },
  {
   "cell_type": "code",
   "execution_count": 8,
   "id": "functional-sydney",
   "metadata": {
    "scrolled": true
   },
   "outputs": [
    {
     "name": "stdout",
     "output_type": "stream",
     "text": [
      "Constraint x added to node 1\n",
      "Constraint y added to node 1\n",
      "Constraint y added to node 2\n",
      "Constraint y added to node 3\n",
      "Constraint y added to node 4\n",
      "Constraint x added to node 5\n",
      "Constraint y added to node 5\n"
     ]
    }
   ],
   "source": [
    "CONSTRAINTS = R\n",
    "for node, direction in CONSTRAINTS:\n",
    "    system.add_constraint(node, direction)"
   ]
  },
  {
   "cell_type": "code",
   "execution_count": 9,
   "id": "monetary-nickname",
   "metadata": {},
   "outputs": [
    {
     "name": "stdout",
     "output_type": "stream",
     "text": [
      "[SYS] Strategy used in solution: linalg.solve\n"
     ]
    }
   ],
   "source": [
    "# R, strain, U = system.solve(F)\n",
    "r_linalg, s_linalg, u_linalg = system.solve(F, solver=\"linalg\")"
   ]
  },
  {
   "cell_type": "code",
   "execution_count": 10,
   "id": "mechanical-romantic",
   "metadata": {},
   "outputs": [
    {
     "name": "stdout",
     "output_type": "stream",
     "text": [
      "[[  -742.73314315]\n",
      " [  -476.36585747]\n",
      " [     0.        ]\n",
      " [  2034.52283151]\n",
      " [     0.        ]\n",
      " [  3345.74766053]\n",
      " [     0.        ]\n",
      " [  3110.39961429]\n",
      " [ -3257.26685685]\n",
      " [  1985.69575114]\n",
      " [     0.        ]\n",
      " [     0.        ]\n",
      " [  2000.        ]\n",
      " [-10000.        ]\n",
      " [  2000.        ]\n",
      " [     0.        ]\n",
      " [     0.        ]\n",
      " [     0.        ]]\n"
     ]
    }
   ],
   "source": [
    "# Reacoes de apoio [N]\n",
    "print(r_linalg)"
   ]
  },
  {
   "cell_type": "code",
   "execution_count": 11,
   "id": "hundred-excess",
   "metadata": {
    "scrolled": false
   },
   "outputs": [
    {
     "name": "stdout",
     "output_type": "stream",
     "text": [
      "[SYS] Strategy used in solution: Gauss-Seidel| Max Iterations: 1000 Tolerance: 1e-08\n",
      "Tolerance reached in 87 iterations with relative diff 8.685674401931465e-09\n"
     ]
    }
   ],
   "source": [
    "# R, strain, U = system.solve(F)\n",
    "r_gauss, s_gauss, u_gauss = system.solve(F, 'gauss', tolerance=1e-8, max_iterations=1000)"
   ]
  },
  {
   "cell_type": "code",
   "execution_count": 12,
   "id": "biological-worst",
   "metadata": {},
   "outputs": [
    {
     "name": "stdout",
     "output_type": "stream",
     "text": [
      "[[  -742.73314313]\n",
      " [  -476.36585747]\n",
      " [     0.        ]\n",
      " [  2034.52283151]\n",
      " [     0.        ]\n",
      " [  3345.74766053]\n",
      " [     0.        ]\n",
      " [  3110.3996143 ]\n",
      " [ -3257.26685685]\n",
      " [  1985.69575113]\n",
      " [     0.        ]\n",
      " [     0.        ]\n",
      " [  2000.        ]\n",
      " [-10000.        ]\n",
      " [  2000.        ]\n",
      " [     0.        ]\n",
      " [     0.        ]\n",
      " [     0.        ]]\n"
     ]
    }
   ],
   "source": [
    "# Reacoes de apoio [N]\n",
    "print(r_gauss)"
   ]
  },
  {
   "cell_type": "markdown",
   "id": "regulated-agency",
   "metadata": {},
   "source": [
    "### Comparação entre Gauss-Seidel e np.linalg.solve"
   ]
  },
  {
   "cell_type": "markdown",
   "id": "continental-width",
   "metadata": {},
   "source": [
    "- Soma absoluta dos erros dos deslocamentos"
   ]
  },
  {
   "cell_type": "code",
   "execution_count": 13,
   "id": "academic-measure",
   "metadata": {},
   "outputs": [
    {
     "data": {
      "text/plain": [
       "1.7030934128417594e-17"
      ]
     },
     "execution_count": 13,
     "metadata": {},
     "output_type": "execute_result"
    }
   ],
   "source": [
    "np.sum(np.abs(u_linalg - u_gauss))"
   ]
  },
  {
   "cell_type": "markdown",
   "id": "involved-party",
   "metadata": {},
   "source": [
    "- Soma absoluta dos erros das reações"
   ]
  },
  {
   "cell_type": "code",
   "execution_count": 14,
   "id": "knowing-aircraft",
   "metadata": {},
   "outputs": [
    {
     "data": {
      "text/plain": [
       "3.781156010518316e-08"
      ]
     },
     "execution_count": 14,
     "metadata": {},
     "output_type": "execute_result"
    }
   ],
   "source": [
    "np.sum(np.abs(r_linalg - r_gauss))"
   ]
  },
  {
   "cell_type": "markdown",
   "id": "deadly-mambo",
   "metadata": {},
   "source": [
    "- Soma absoluta dos erros das tensões"
   ]
  },
  {
   "cell_type": "code",
   "execution_count": 15,
   "id": "authorized-collect",
   "metadata": {},
   "outputs": [
    {
     "data": {
      "text/plain": [
       "9.457612547016895e-18"
      ]
     },
     "execution_count": 15,
     "metadata": {},
     "output_type": "execute_result"
    }
   ],
   "source": [
    "np.sum(np.abs(s_linalg - s_gauss))"
   ]
  },
  {
   "cell_type": "code",
   "execution_count": 16,
   "id": "desirable-shark",
   "metadata": {},
   "outputs": [],
   "source": [
    "R = r_gauss.copy()\n",
    "U = u_gauss.copy()\n",
    "strain = s_gauss.copy()"
   ]
  },
  {
   "cell_type": "code",
   "execution_count": 17,
   "id": "selective-blame",
   "metadata": {},
   "outputs": [
    {
     "data": {
      "text/plain": [
       "array([[ 0.00000000e+00],\n",
       "       [ 0.00000000e+00],\n",
       "       [ 5.63740287e-08],\n",
       "       [ 0.00000000e+00],\n",
       "       [ 1.62744803e-07],\n",
       "       [ 0.00000000e+00],\n",
       "       [ 2.69115578e-07],\n",
       "       [ 0.00000000e+00],\n",
       "       [ 0.00000000e+00],\n",
       "       [ 0.00000000e+00],\n",
       "       [ 9.05855900e-07],\n",
       "       [-2.82799280e-07],\n",
       "       [ 1.33551493e-06],\n",
       "       [-1.84167258e-06],\n",
       "       [ 6.65746946e-07],\n",
       "       [-3.80590097e-07],\n",
       "       [ 6.23056619e-07],\n",
       "       [-7.08094743e-07]])"
      ]
     },
     "execution_count": 17,
     "metadata": {},
     "output_type": "execute_result"
    }
   ],
   "source": [
    "# Deslocamento [m]\n",
    "U"
   ]
  },
  {
   "cell_type": "code",
   "execution_count": 18,
   "id": "gorgeous-franchise",
   "metadata": {},
   "outputs": [
    {
     "data": {
      "text/plain": [
       "array([[ 5.63740287e-08],\n",
       "       [ 1.06370775e-07],\n",
       "       [ 1.06370775e-07],\n",
       "       [-2.69115578e-07],\n",
       "       [-5.94327590e-07],\n",
       "       [-9.94266167e-07],\n",
       "       [-3.95657252e-07],\n",
       "       [ 1.42578425e-07],\n",
       "       [-3.80590097e-07],\n",
       "       [-7.07060761e-08],\n",
       "       [-7.08094743e-07],\n",
       "       [-5.31017892e-07],\n",
       "       [-2.82799280e-07],\n",
       "       [ 2.82799280e-07],\n",
       "       [-4.26903265e-08],\n",
       "       [-1.13357784e-06]])"
      ]
     },
     "execution_count": 18,
     "metadata": {},
     "output_type": "execute_result"
    }
   ],
   "source": [
    "# desformaçao [adimensional]\n",
    "strain"
   ]
  },
  {
   "cell_type": "code",
   "execution_count": 19,
   "id": "scientific-species",
   "metadata": {
    "scrolled": true
   },
   "outputs": [
    {
     "data": {
      "text/plain": [
       "array([[  11838.54602971],\n",
       "       [  22337.86266761],\n",
       "       [  22337.86266769],\n",
       "       [ -56514.271365  ],\n",
       "       [-124808.7938666 ],\n",
       "       [-208795.89511491],\n",
       "       [ -83088.02290405],\n",
       "       [  29941.46916801],\n",
       "       [ -79923.92031823],\n",
       "       [ -14848.27598472],\n",
       "       [-148699.89602354],\n",
       "       [-111513.75737118],\n",
       "       [ -59387.84882481],\n",
       "       [  59387.84882459],\n",
       "       [  -8964.96857044],\n",
       "       [-238051.34669401]])"
      ]
     },
     "execution_count": 19,
     "metadata": {},
     "output_type": "execute_result"
    }
   ],
   "source": [
    "# Tensoes internas [Pa]\n",
    "stress_element = np.array([[el.E] for el in system._elements])*strain\n",
    "stress_element"
   ]
  },
  {
   "cell_type": "code",
   "execution_count": 20,
   "id": "chronic-halifax",
   "metadata": {},
   "outputs": [
    {
     "data": {
      "text/plain": [
       "array([[  266.36728567],\n",
       "       [  502.60191002],\n",
       "       [  502.60191002],\n",
       "       [-1271.57110571],\n",
       "       [-2808.197862  ],\n",
       "       [-4697.90764009],\n",
       "       [-1869.48051534],\n",
       "       [  673.68305628],\n",
       "       [-1798.28820716],\n",
       "       [ -334.08620966],\n",
       "       [-3345.74766053],\n",
       "       [-2509.05954085],\n",
       "       [-1336.22659856],\n",
       "       [ 1336.22659855],\n",
       "       [ -201.71179283],\n",
       "       [-5356.15530062]])"
      ]
     },
     "execution_count": 20,
     "metadata": {},
     "output_type": "execute_result"
    }
   ],
   "source": [
    "# Forças internas [N]\n",
    "Fi = np.array([[el.A] for el in system._elements])*stress_element\n",
    "Fi"
   ]
  },
  {
   "cell_type": "markdown",
   "id": "driven-interface",
   "metadata": {},
   "source": [
    "####  Gráfico de saída "
   ]
  },
  {
   "cell_type": "code",
   "execution_count": 21,
   "id": "handled-christian",
   "metadata": {},
   "outputs": [],
   "source": [
    "# geraSaida(nome,Ft,Ut,Epsi,Fi,Ti)\n",
    "geraSaida(\"saida\", R, U, strain, Fi, stress_element)"
   ]
  },
  {
   "cell_type": "code",
   "execution_count": 22,
   "id": "lasting-trustee",
   "metadata": {
    "scrolled": true
   },
   "outputs": [
    {
     "data": {
      "image/png": "[encoded data removed]",
      "text/plain": [
       "<Figure size 432x288 with 1 Axes>"
      ]
     },
     "metadata": {
      "needs_background": "light"
     },
     "output_type": "display_data"
    }
   ],
   "source": [
    "# plotar o grafico de entrada e de saida \n",
    "# def plota(N,Inc)\n",
    "\n",
    "# ENTRADA \n",
    "plota(N, Inc)"
   ]
  },
  {
   "cell_type": "code",
   "execution_count": 23,
   "id": "successful-advertising",
   "metadata": {
    "scrolled": false
   },
   "outputs": [],
   "source": [
    "n = system.nodes.astype(\"float64\")"
   ]
  },
  {
   "cell_type": "code",
   "execution_count": 24,
   "id": "complete-uncertainty",
   "metadata": {},
   "outputs": [],
   "source": [
    "new_n = n.copy()"
   ]
  },
  {
   "cell_type": "code",
   "execution_count": 25,
   "id": "billion-english",
   "metadata": {},
   "outputs": [],
   "source": [
    "new_n = (n.T.reshape(U.shape) +( U*2e5)).reshape(n.T.shape).T"
   ]
  },
  {
   "cell_type": "code",
   "execution_count": 26,
   "id": "ready-guitar",
   "metadata": {},
   "outputs": [
    {
     "data": {
      "text/plain": [
       "array([[0.        , 1.01127481, 2.03254896, 3.05382312, 4.        ,\n",
       "        3.18117118, 2.26710299, 1.13314939, 2.12461132],\n",
       "       [0.        , 0.        , 0.        , 0.        , 0.        ,\n",
       "        0.94344014, 1.63166548, 0.92388198, 0.85838105]])"
      ]
     },
     "execution_count": 26,
     "metadata": {},
     "output_type": "execute_result"
    }
   ],
   "source": [
    "new_n"
   ]
  },
  {
   "cell_type": "code",
   "execution_count": 27,
   "id": "laughing-trinity",
   "metadata": {},
   "outputs": [
    {
     "data": {
      "image/png": "[encoded data removed]",
      "text/plain": [
       "<Figure size 432x288 with 1 Axes>"
      ]
     },
     "metadata": {
      "needs_background": "light"
     },
     "output_type": "display_data"
    }
   ],
   "source": [
    "plota(new_n, Inc)"
   ]
  }
 ],
 "metadata": {
  "kernelspec": {
   "display_name": "Python 3",
   "language": "python",
   "name": "python3"
  },
  "language_info": {
   "codemirror_mode": {
    "name": "ipython",
    "version": 3
   },
   "file_extension": ".py",
   "mimetype": "text/x-python",
   "name": "python",
   "nbconvert_exporter": "python",
   "pygments_lexer": "ipython3",
   "version": "3.8.8"
  }
 },
 "nbformat": 4,
 "nbformat_minor": 5
}
