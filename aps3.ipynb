{
 "cells": [
  {
   "cell_type": "code",
   "execution_count": 173,
   "id": "compound-shell",
   "metadata": {},
   "outputs": [],
   "source": [
    "from math import sqrt\n",
    "import numpy as np "
   ]
  },
  {
   "cell_type": "code",
   "execution_count": 174,
   "id": "funny-story",
   "metadata": {},
   "outputs": [],
   "source": [
    "L = 2         # m\n",
    "A = 2e-4      # m²\n",
    "E = 210e9     # Pa | módulo de elasticidade\n",
    "P = 50e3      # N"
   ]
  },
  {
   "cell_type": "code",
   "execution_count": 175,
   "id": "bearing-riding",
   "metadata": {},
   "outputs": [],
   "source": [
    "nn = 3\n",
    "N = np.array([[0, L/2, L], [0, 0, 0]])"
   ]
  },
  {
   "cell_type": "code",
   "execution_count": 176,
   "id": "female-chassis",
   "metadata": {},
   "outputs": [],
   "source": [
    "# configuração\n",
    "N_ELEMENTS = 3\n",
    "N_NODES = 3\n",
    "DEFAULT_ELASTICITY = E # Módulo de elasticidade\n",
    "DEFAULT_AREA = A # Area"
   ]
  },
  {
   "cell_type": "code",
   "execution_count": 177,
   "id": "severe-tomato",
   "metadata": {},
   "outputs": [],
   "source": [
    "LOADS = np.array([\n",
    "#[nó, direção, valor (N)]\n",
    "    [3, 1, 150],\n",
    "    [3, 2, -100]\n",
    "])\n",
    "\n",
    "CONSTRAINTS = np.array([\n",
    "# [nó, direção]   direção = 1 -> x; direção = 2 -> y\n",
    "    [2, 2],\n",
    "    [2, 1],\n",
    "    [1, 1]\n",
    "])"
   ]
  },
  {
   "cell_type": "code",
   "execution_count": 178,
   "id": "aware-execution",
   "metadata": {},
   "outputs": [],
   "source": [
    "# Essa é a classe mais básica de todas. Ela é um ponto\n",
    "# e possui propriedades de um ponto, como coordenada x,\n",
    "# coordenada y.\n",
    "class Point():\n",
    "    def __init__(self, x:float, y:float):\n",
    "        self.x = x\n",
    "        self.y = y\n",
    "\n",
    "    def __repr__(self):\n",
    "        return f\"({self.x}, {self.y})\"\n",
    "    \n",
    "    # subtrarir p1 - p2 devolve um novo ponto (x2 - x1, y2 - y1)\n",
    "    def __sub__(self, point):\n",
    "        return Point(self.x - point.x, self.y - point.y)\n",
    "    \n",
    "    # somar p1 + p2 devolve um novo ponto (x1 + x2, y1 + y2)\n",
    "    def __add__(self, point):\n",
    "        return Point(self.x + point.x, self.y + point.y)\n",
    "\n",
    "    # isso aqui serve para flexibilizar a sintaxe. Contextualmente,\n",
    "    # não tem nada a ver com um ponto, então não se importe com isso\n",
    "    def __iter__(self):\n",
    "        yield self.x\n",
    "        yield self.y\n",
    "   \n",
    "    # dividir p1 por um número n devolve um novo ponto (x1/n, y1/n)\n",
    "    def __truediv__(self, number:int):\n",
    "        return Point(self.x / number, self.y / number)\n",
    "    \n",
    "    # calcula a distância entre dois pontos (pitágoras das coordenadas)\n",
    "    def dist(self, point) -> float:\n",
    "        return sqrt( (self.x - point.x)**2 + (self.y - point.y)**2 )"
   ]
  },
  {
   "cell_type": "code",
   "execution_count": 179,
   "id": "complete-tampa",
   "metadata": {},
   "outputs": [],
   "source": [
    "# Essa classe representa um nó. Ela é um ponto (classe Point) com\n",
    "# algumas características adicionais\n",
    "class Node(Point):\n",
    "    def __init__(self, x, y, value:int):\n",
    "        super(Node, self).__init__(x, y)\n",
    "        self.value = value # um ponto não tem a propriedade value, por exemplo\n",
    "    \n",
    "    # um ponto é representado apenas como tupla\n",
    "    # um nó é representado como: \"○ 1 (x, y)\"\n",
    "    def __repr__(self):\n",
    "        return f\"○ {self.value} ({self.x}, {self.y})\"\n",
    "\n",
    "# Essa classe representa um elemento. Ela possui 2 nós.\n",
    "class Element():\n",
    "    def __init__(self, node_1:Node, node_2:Node, value:int, E:float, A:float):\n",
    "        self.value = value       # value de um elemento (elemento 1, elemento 2, ...)\n",
    "        self.node_1 = node_1     # nó 1\n",
    "        self.node_2 = node_2     # nó 2\n",
    "        self.length = node_1.dist(node_2)  # comprimento do elemento\n",
    "        self.cos, self.sin = self.slope()  # cos e sen do ângulo de inclinação\n",
    "        \n",
    "        self.m = np.array([[self.node_2.x - self.node_1.x], [self.node_2.y - self.node_1.y]])\n",
    "        \n",
    "        # self.S é a matriz de rigidez do elemento\n",
    "        self.S = (E*A/self.length) * (self.m.dot(self.m.T)/(np.linalg.norm(self.m)**2))\n",
    "        \n",
    "    # inclinação\n",
    "    def slope(self):\n",
    "        cos, sin = (self.node_2 - self.node_1)/self.length\n",
    "        return (cos, sin)\n",
    "    \n",
    "    def calc_strain(self, u1, v1, u2, v2):\n",
    "        self.strain = np.array([ -self.cos, -self.sin, \n",
    "                                self.cos, self.sin ]).dot(np.array([[u1],[v1],[u2],[v2]]))/self.length\n",
    "                                                                     \n",
    "    @property\n",
    "    def connectivity(self):\n",
    "        connectivity_list = [0]*N_NODES\n",
    "        connectivity_list[self.node_1.value - 1] = -1\n",
    "        connectivity_list[self.node_2.value - 1] = 1\n",
    "        return np.array( connectivity_list )\n",
    "\n",
    "    def stiffness(self):\n",
    "        c = np.array([self.connectivity])\n",
    "        return np.kron(c.T.dot(c), self.S)\n",
    "    \n",
    "    def __repr__(self):\n",
    "        return f\"{self.node_1.value} ○--({self.value})--○ {self.node_2.value}\""
   ]
  },
  {
   "cell_type": "code",
   "execution_count": 191,
   "id": "wrapped-absorption",
   "metadata": {},
   "outputs": [],
   "source": [
    "class System():\n",
    "    \n",
    "    def __init__(self, E=E, A=A):\n",
    "        self._E = E\n",
    "        self._A = A\n",
    "        self._nodes = []\n",
    "        self._elements = []\n",
    "        self._P = []\n",
    "        self._loads = []\n",
    "        self._constraints = []\n",
    "        \n",
    "    # Esse método adiciona 1 nó de coordenadas (x, y) ao sistema\n",
    "    def add_node(self, x:float, y:float) -> None:\n",
    "        new_node = Node(x, y, len(self._nodes) + 1)\n",
    "        self._nodes.append( new_node )\n",
    "        print(f\"[SYS] created node: {new_node}\")\n",
    "    \n",
    "    # Esse método adiciona restrições aos nós (x: direction = 1; y: direction = 2)\n",
    "    def add_constraint(self, node:int, direction:int):\n",
    "        self._constraints.append([node, direction])\n",
    "        print(f\"Constraints {'x' if direction == 1 else 'y'} added to node {node}\")\n",
    "        \n",
    "    # adiciona uma carga a um dos nós do sistema (x: direction = 1; y: direction = 2)\n",
    "    def add_load(self, node, direction, value):\n",
    "        self._loads.append([node, direction, value])\n",
    "        print(f\"Load of {value} N ({'x' if direction == 1 else 'y'}) added to node {node}\")\n",
    "        \n",
    "    # Esse método adiciona 1 elemento definido entre os nós n1 e n2\n",
    "    def define_element(self, n1: int, n2: int, E=DEFAULT_ELASTICITY, A=DEFAULT_AREA):\n",
    "        n1 = self._nodes[n1 - 1]\n",
    "        n2 = self._nodes[n2 - 1]\n",
    "        new_element = Element(n1, n2, value=len(self._elements) + 1, E=self._E, A=self._A)\n",
    "        self._elements.append( new_element )\n",
    "        print(f\"[SYS] created element: {new_element}\")\n",
    "    \n",
    "    # Esse método retorna um nó. Uso: \n",
    "    # system.node(1) retorna o nó 1\n",
    "    # Se 3 nós foram adicionados, eles são númerados como \n",
    "    # 1, 2 e 3, então não se preocupe com índices a partir do 0\n",
    "    def node(self, number:int) -> Node:\n",
    "        return self._nodes[number - 1]\n",
    "\n",
    "    # análogo ao anterior. system.element(1) retorna o elemento 1\n",
    "    def element(self, number:int) -> Element:\n",
    "        return self._elements[number - 1]\n",
    "    \n",
    "    # devolve a matriz dos nós\n",
    "    @property\n",
    "    def N(self):\n",
    "        return np.array([ [n.x for n in self._nodes], [n.y for n in self._nodes] ])\n",
    "    \n",
    "    # devolve a matriz de conectividade\n",
    "    @property\n",
    "    def C(self):\n",
    "        return np.array(  [el.connectivity for el in self._elements] )\n",
    "   \n",
    "    # devolve a matriz \n",
    "    @property\n",
    "    def K(self):\n",
    "        return sum( [el.stiffness() for el in self._elements] )\n",
    "    \n",
    "    @property\n",
    "    def strain(self):\n",
    "        return np.array( [el.strain for el in self._elements] )\n",
    "\n",
    "    def solve(self):\n",
    "        P = np.zeros((2*len(self._nodes), 1))\n",
    "        K = self.K.copy()\n",
    "        \n",
    "        for node, direction, value in self._loads:\n",
    "            P[ 2*(node - 1) + direction//2 , 0] = value\n",
    "            \n",
    "        deleted_positions = []\n",
    "        \n",
    "        for node, direction in self._constraints:\n",
    "            P = np.delete(P, 2*(node - 1) + direction//2, 0)\n",
    "            K = np.delete(K, 2*(node - 1) + direction//2, 0)\n",
    "            K = np.delete(K, 2*(node - 1) + direction//2, 1)\n",
    "            deleted_positions.append( 2*(node - 1) + direction//2 )\n",
    "        \n",
    "        solve = np.linalg.solve(K, P)\n",
    "        \n",
    "        U = np.zeros( (2*len(self._nodes), 1) )\n",
    "        \n",
    "        counter = 0\n",
    "        for i in range(2*len(self._nodes)):\n",
    "            if (i not in deleted_positions):\n",
    "                U[i] = solve[counter]\n",
    "                counter += 1\n",
    "        \n",
    "        R = self.K.dot(U)\n",
    "        R[np.abs(R) < 1e-7] = 0\n",
    "        \n",
    "        for el in self._elements:\n",
    "            values = U[ [2*(el.node_1.value - 1), 2*(el.node_1.value - 1) + 1, \n",
    "                         2*(el.node_2.value - 1), 2*(el.node_2.value - 1) + 1] , 0]\n",
    "            el.calc_strain(*values)\n",
    "        \n",
    "        return R, self.strain"
   ]
  },
  {
   "cell_type": "markdown",
   "id": "demographic-decrease",
   "metadata": {},
   "source": [
    "Exemplo 1 (Aula 20)"
   ]
  },
  {
   "cell_type": "code",
   "execution_count": 192,
   "id": "failing-fundamentals",
   "metadata": {
    "scrolled": true
   },
   "outputs": [],
   "source": [
    "system = System()"
   ]
  },
  {
   "cell_type": "code",
   "execution_count": 193,
   "id": "crude-japanese",
   "metadata": {},
   "outputs": [
    {
     "name": "stdout",
     "output_type": "stream",
     "text": [
      "[SYS] created node: ○ 1 (0, 0)\n",
      "[SYS] created node: ○ 2 (0, 0.4)\n",
      "[SYS] created node: ○ 3 (0.3, 0.4)\n"
     ]
    }
   ],
   "source": [
    "system.add_node(0, 0)       # nó 1 (x=0, y=0)\n",
    "system.add_node(0, 0.4)     # nó 2 (x=0, y=0.4)\n",
    "system.add_node(0.3, 0.4)   # nó 3 (x=0.3, y=0.4)"
   ]
  },
  {
   "cell_type": "code",
   "execution_count": 194,
   "id": "logical-soldier",
   "metadata": {},
   "outputs": [
    {
     "name": "stdout",
     "output_type": "stream",
     "text": [
      "[SYS] created element: 1 ○--(1)--○ 2\n",
      "[SYS] created element: 2 ○--(2)--○ 3\n",
      "[SYS] created element: 1 ○--(3)--○ 3\n"
     ]
    }
   ],
   "source": [
    "system.define_element(1, 2) # elemento 1 é definido pelos nós 1 e 2\n",
    "system.define_element(2, 3) # ---      2 --- nós 2 e 3\n",
    "system.define_element(1, 3) # ---      3 --- nós 1 e 3"
   ]
  },
  {
   "cell_type": "code",
   "execution_count": 195,
   "id": "younger-karma",
   "metadata": {},
   "outputs": [
    {
     "name": "stdout",
     "output_type": "stream",
     "text": [
      "Constraints y added to node 2\n",
      "Constraints x added to node 2\n",
      "Constraints x added to node 1\n"
     ]
    }
   ],
   "source": [
    "for node, direction in CONSTRAINTS:\n",
    "    system.add_constraint(node, direction)"
   ]
  },
  {
   "cell_type": "code",
   "execution_count": 196,
   "id": "increasing-custom",
   "metadata": {},
   "outputs": [
    {
     "name": "stdout",
     "output_type": "stream",
     "text": [
      "Load of 150 N (x) added to node 3\n",
      "Load of -100 N (y) added to node 3\n"
     ]
    }
   ],
   "source": [
    "for node, direction, value in LOADS:\n",
    "    system.add_load(node, direction, value)"
   ]
  },
  {
   "cell_type": "code",
   "execution_count": 197,
   "id": "precise-radical",
   "metadata": {},
   "outputs": [],
   "source": [
    "R, strain = system.solve()"
   ]
  },
  {
   "cell_type": "code",
   "execution_count": 198,
   "id": "aggressive-voltage",
   "metadata": {},
   "outputs": [
    {
     "data": {
      "text/plain": [
       "array([[  75.],\n",
       "       [   0.],\n",
       "       [-225.],\n",
       "       [ 100.],\n",
       "       [ 150.],\n",
       "       [-100.]])"
      ]
     },
     "execution_count": 198,
     "metadata": {},
     "output_type": "execute_result"
    }
   ],
   "source": [
    "R"
   ]
  },
  {
   "cell_type": "code",
   "execution_count": 190,
   "id": "framed-corner",
   "metadata": {},
   "outputs": [
    {
     "data": {
      "text/plain": [
       "array([[ 500000.],\n",
       "       [1125000.],\n",
       "       [-625000.]])"
      ]
     },
     "execution_count": 190,
     "metadata": {},
     "output_type": "execute_result"
    }
   ],
   "source": [
    "E*strain"
   ]
  },
  {
   "cell_type": "code",
   "execution_count": null,
   "id": "funny-affair",
   "metadata": {},
   "outputs": [],
   "source": []
  },
  {
   "cell_type": "code",
   "execution_count": null,
   "id": "prompt-producer",
   "metadata": {},
   "outputs": [],
   "source": []
  }
 ],
 "metadata": {
  "kernelspec": {
   "display_name": "Python 3",
   "language": "python",
   "name": "python3"
  },
  "language_info": {
   "codemirror_mode": {
    "name": "ipython",
    "version": 3
   },
   "file_extension": ".py",
   "mimetype": "text/x-python",
   "name": "python",
   "nbconvert_exporter": "python",
   "pygments_lexer": "ipython3",
   "version": "3.8.8"
  }
 },
 "nbformat": 4,
 "nbformat_minor": 5
}
