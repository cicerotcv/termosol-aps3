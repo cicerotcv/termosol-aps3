{
 "cells": [
  {
   "cell_type": "code",
   "execution_count": 1,
   "id": "compound-shell",
   "metadata": {},
   "outputs": [],
   "source": [
    "from math import sqrt\n",
    "import numpy as np"
   ]
  },
  {
   "cell_type": "code",
   "execution_count": 32,
   "id": "funny-story",
   "metadata": {},
   "outputs": [],
   "source": [
    "L = 2         # m\n",
    "A = 2e-4      # m²\n",
    "E = 210e9     # Pa | módulo de elasticidade\n",
    "P = 50e3      # N"
   ]
  },
  {
   "cell_type": "code",
   "execution_count": 33,
   "id": "bearing-riding",
   "metadata": {},
   "outputs": [],
   "source": [
    "nn = 3\n",
    "N = np.array([[0, L/2, L], [0, 0, 0]])"
   ]
  },
  {
   "cell_type": "code",
   "execution_count": 175,
   "id": "female-chassis",
   "metadata": {},
   "outputs": [],
   "source": [
    "# configuração\n",
    "N_ELEMENTS = 3\n",
    "N_NODES = 3\n",
    "DEFAULT_ELASTICITY = E # Módulo de elasticidade\n",
    "DEFAULT_AREA = A # Area"
   ]
  },
  {
   "cell_type": "code",
   "execution_count": 176,
   "id": "working-cooper",
   "metadata": {},
   "outputs": [],
   "source": [
    "# Essa é a classe mais básica de todas. Ela é um ponto\n",
    "# e possui propriedades de um ponto, como coordenada x,\n",
    "# coordenada y.\n",
    "class Point():\n",
    "    def __init__(self, x:float, y:float):\n",
    "        self.x = x\n",
    "        self.y = y\n",
    "\n",
    "    def __repr__(self):\n",
    "        return f\"({self.x}, {self.y})\"\n",
    "    \n",
    "    # subtrarir p1 - p2 devolve um novo ponto (x2 - x1, y2 - y1)\n",
    "    def __sub__(self, point):\n",
    "        return Point(self.x - point.x, self.y - point.y)\n",
    "    \n",
    "    # somar p1 + p2 devolve um novo ponto (x1 + x2, y1 + y2)\n",
    "    def __add__(self, point):\n",
    "        return Point(self.x + point.x, self.y + point.y)\n",
    "\n",
    "    # isso aqui serve para flexibilizar a sintaxe. Contextualmente,\n",
    "    # não tem nada a ver com um ponto, então não se importe com isso\n",
    "    def __iter__(self):\n",
    "        yield self.x\n",
    "        yield self.y\n",
    "   \n",
    "    # dividir p1 por um número n devolve um novo ponto (x1/n, y1/n)\n",
    "    def __truediv__(self, number:int):\n",
    "        return Point(self.x / number, self.y / number)\n",
    "    \n",
    "    # calcula a distância entre dois pontos (pitágoras das coordenadas)\n",
    "    def dist(self, point) -> float:\n",
    "        return sqrt( (self.x - point.x)**2 + (self.y - point.y)**2 )"
   ]
  },
  {
   "cell_type": "code",
   "execution_count": 229,
   "id": "complete-tampa",
   "metadata": {},
   "outputs": [],
   "source": [
    "# Essa classe representa um nó. Ela é um ponto (classe Point) com\n",
    "# algumas características adicionais\n",
    "class Node(Point):\n",
    "    def __init__(self, x, y, value:int):\n",
    "        super(Node, self).__init__(x, y)\n",
    "        self.value = value # um ponto não tem a propriedade value, por exemplo\n",
    "    \n",
    "    # um ponto é representado apenas como tupla\n",
    "    # um nó é representado como: \"○ 1 (x, y)\"\n",
    "    def __repr__(self):\n",
    "        return f\"○ {self.value} ({self.x}, {self.y})\"\n",
    "\n",
    "# Essa classe representa um elemento. Ela possui 2 nós.\n",
    "class Element():\n",
    "    def __init__(self, node_1:Node, node_2:Node, value:int, E:float, A:float):\n",
    "        self.value = value       # value de um elemento (elemento 1, elemento 2, ...)\n",
    "        self.node_1 = node_1     # nó 1\n",
    "        self.node_2 = node_2     # nó 2\n",
    "        self.length = node_1.dist(node_2)  # comprimento do elemento\n",
    "        self.cos, self.sin = self.slope()  # cos e sen do ângulo de inclinação\n",
    "        \n",
    "        # self.m é aquele cálculo complicado lá...\n",
    "        self.m = np.array([[self.node_2.x - self.node_1.x], [self.node_2.y - self.node_1.y]])\n",
    "        \n",
    "        # self.S é a matriz de rigidêz do elemento\n",
    "        self.S = (E*A/self.length) * (self.m.dot(self.m.T)/(np.linalg.norm(self.m)**2))\n",
    "        \n",
    "    # inclinação\n",
    "    def slope(self):\n",
    "        cos, sin = (self.node_2 - self.node_1)/self.length\n",
    "        return (cos, sin)\n",
    "\n",
    "    @property\n",
    "    def connectivity(self):\n",
    "        connectivity_list = [0]*N_NODES\n",
    "        connectivity_list[self.node_1.value - 1] = -1\n",
    "        connectivity_list[self.node_2.value - 1] = 1\n",
    "        return np.array( connectivity_list )\n",
    "\n",
    "    def stiffness(self):\n",
    "        c = np.array([self.connectivity])\n",
    "        return np.kron(c.T.dot(c), self.S)\n",
    "    \n",
    "    def __repr__(self):\n",
    "        return f\"{self.node_1.value} ○--({self.value})--○ {self.node_2.value}\""
   ]
  },
  {
   "cell_type": "code",
   "execution_count": 230,
   "id": "noble-halifax",
   "metadata": {},
   "outputs": [],
   "source": [
    "class System():\n",
    "    _nodes = []\n",
    "    _elements = []\n",
    "    \n",
    "    # Esse método adiciona 1 nó de coordenadas (x, y) ao sistema\n",
    "    def add_node(self, x:float, y:float) -> None:\n",
    "        new_node = Node(x, y, len(self._nodes) + 1)\n",
    "        self._nodes.append( new_node )\n",
    "        print(f\"[SYS] created node: {new_node}\")\n",
    "        \n",
    "    \n",
    "    # Esse método adiciona 1 elemento definido entre os nós n1 e n2\n",
    "    def define_element(self, n1: int, n2: int, E=DEFAULT_ELASTICITY, A=DEFAULT_AREA):\n",
    "        n1 = self._nodes[n1 - 1]\n",
    "        n2 = self._nodes[n2 - 1]\n",
    "        new_element = Element(n1, n2, value=len(self._elements) + 1, E=E, A=A)\n",
    "        self._elements.append( new_element )\n",
    "        print(f\"[SYS] created element: {new_element}\")\n",
    "    \n",
    "    # Esse método retorna um nó. Uso: \n",
    "    # system.node(1) retorna o nó 1\n",
    "    # Se 3 nós foram adicionados, eles são númerados como \n",
    "    # 1, 2 e 3, então não se preocupe com índices a partir do 0\n",
    "    def node(self, number:int) -> Node:\n",
    "        return self._nodes[number - 1]\n",
    "\n",
    "    # análogo ao anterior. system.element(1) retorna o elemento 1\n",
    "    def element(self, number:int) -> Element:\n",
    "        return self._elements[number - 1]\n",
    "    \n",
    "    # devolve a matriz dos nós\n",
    "    @property\n",
    "    def N(self):\n",
    "        return np.array([ [n.x for n in self._nodes], [n.y for n in self._nodes] ])\n",
    "    \n",
    "    # devolve a matriz de conectividade\n",
    "    @property\n",
    "    def C(self):\n",
    "        return np.array(  [el.connectivity for el in self._elements] )\n",
    "   \n",
    "    # devolve a matriz M (não sei o que ela é ainda)\n",
    "    @property\n",
    "    def M(self):\n",
    "        return self.N.dot(self.C.T)"
   ]
  },
  {
   "cell_type": "markdown",
   "id": "clinical-century",
   "metadata": {},
   "source": [
    "Exemplo 1 (Aula 20)"
   ]
  },
  {
   "cell_type": "code",
   "execution_count": 231,
   "id": "functioning-finance",
   "metadata": {},
   "outputs": [
    {
     "name": "stdout",
     "output_type": "stream",
     "text": [
      "[SYS] created node: ○ 1 (0, 0)\n",
      "[SYS] created node: ○ 2 (0, 0.4)\n",
      "[SYS] created node: ○ 3 (0.3, 0.4)\n",
      "[SYS] created element: 1 ○--(1)--○ 2\n",
      "[SYS] created element: 2 ○--(2)--○ 3\n",
      "[SYS] created element: 1 ○--(3)--○ 3\n"
     ]
    }
   ],
   "source": [
    "system = System()\n",
    "\n",
    "system.add_node(0, 0)       # nó 1 (x=0, y=0)\n",
    "system.add_node(0, 0.4)     # nó 2 (x=0, y=0.4)\n",
    "system.add_node(0.3, 0.4)   # nó 3 (x=0.3, y=0.4)\n",
    "\n",
    "system.define_element(1, 2) # elemento 1 é definido pelos nós 1 e 2\n",
    "system.define_element(2, 3) # ---      2 --- nós 2 e 3\n",
    "system.define_element(1, 3) # ---      3 --- nós 1 e 3"
   ]
  },
  {
   "cell_type": "code",
   "execution_count": 232,
   "id": "atlantic-kansas",
   "metadata": {},
   "outputs": [
    {
     "name": "stdout",
     "output_type": "stream",
     "text": [
      "Matriz de nós:\n",
      "[[0.  0.  0.3]\n",
      " [0.  0.4 0.4]]\n"
     ]
    }
   ],
   "source": [
    "print(\"Matriz de nós:\")\n",
    "print(system.N)"
   ]
  },
  {
   "cell_type": "code",
   "execution_count": 233,
   "id": "similar-summary",
   "metadata": {},
   "outputs": [
    {
     "name": "stdout",
     "output_type": "stream",
     "text": [
      "Matriz de conectividade (transposta?):\n",
      "[[-1  1  0]\n",
      " [ 0 -1  1]\n",
      " [-1  0  1]]\n"
     ]
    }
   ],
   "source": [
    "print(\"Matriz de conectividade (transposta?):\")\n",
    "print(system.C)"
   ]
  },
  {
   "cell_type": "code",
   "execution_count": 234,
   "id": "answering-extraction",
   "metadata": {},
   "outputs": [
    {
     "name": "stdout",
     "output_type": "stream",
     "text": [
      "(cos, sin): (0.0, 1.0) \n",
      "\n"
     ]
    }
   ],
   "source": [
    "e1 = system.element(1)\n",
    "print(\"(cos, sin):\", e1.slope() ,'\\n')"
   ]
  },
  {
   "cell_type": "code",
   "execution_count": 235,
   "id": "offshore-standard",
   "metadata": {},
   "outputs": [
    {
     "name": "stdout",
     "output_type": "stream",
     "text": [
      "(cos, sin): (1.0, 0.0) \n",
      "\n"
     ]
    }
   ],
   "source": [
    "e2 = system.element(2)\n",
    "print(\"(cos, sin):\", e2.slope() ,'\\n')"
   ]
  },
  {
   "cell_type": "code",
   "execution_count": 236,
   "id": "incomplete-resource",
   "metadata": {},
   "outputs": [
    {
     "name": "stdout",
     "output_type": "stream",
     "text": [
      "(cos, sin): (0.6, 0.8) \n",
      "\n"
     ]
    }
   ],
   "source": [
    "e3 = system.element(3)\n",
    "print(\"(cos, sin):\", e3.slope() ,'\\n')"
   ]
  },
  {
   "cell_type": "markdown",
   "id": "nominated-privacy",
   "metadata": {},
   "source": [
    "Matrix de rigidez dos elementos:"
   ]
  },
  {
   "cell_type": "code",
   "execution_count": 237,
   "id": "seventh-republic",
   "metadata": {},
   "outputs": [
    {
     "data": {
      "text/plain": [
       "array([[ 0.00e+00,  0.00e+00, -0.00e+00, -0.00e+00,  0.00e+00,  0.00e+00],\n",
       "       [ 0.00e+00,  1.05e+08, -0.00e+00, -1.05e+08,  0.00e+00,  0.00e+00],\n",
       "       [-0.00e+00, -0.00e+00,  0.00e+00,  0.00e+00,  0.00e+00,  0.00e+00],\n",
       "       [-0.00e+00, -1.05e+08,  0.00e+00,  1.05e+08,  0.00e+00,  0.00e+00],\n",
       "       [ 0.00e+00,  0.00e+00,  0.00e+00,  0.00e+00,  0.00e+00,  0.00e+00],\n",
       "       [ 0.00e+00,  0.00e+00,  0.00e+00,  0.00e+00,  0.00e+00,  0.00e+00]])"
      ]
     },
     "execution_count": 237,
     "metadata": {},
     "output_type": "execute_result"
    }
   ],
   "source": [
    "e1.stiffness()"
   ]
  },
  {
   "cell_type": "code",
   "execution_count": 238,
   "id": "difficult-reduction",
   "metadata": {},
   "outputs": [
    {
     "data": {
      "text/plain": [
       "array([[ 0.0e+00,  0.0e+00,  0.0e+00,  0.0e+00,  0.0e+00,  0.0e+00],\n",
       "       [ 0.0e+00,  0.0e+00,  0.0e+00,  0.0e+00,  0.0e+00,  0.0e+00],\n",
       "       [ 0.0e+00,  0.0e+00,  1.4e+08,  0.0e+00, -1.4e+08, -0.0e+00],\n",
       "       [ 0.0e+00,  0.0e+00,  0.0e+00,  0.0e+00, -0.0e+00, -0.0e+00],\n",
       "       [ 0.0e+00,  0.0e+00, -1.4e+08, -0.0e+00,  1.4e+08,  0.0e+00],\n",
       "       [ 0.0e+00,  0.0e+00, -0.0e+00, -0.0e+00,  0.0e+00,  0.0e+00]])"
      ]
     },
     "execution_count": 238,
     "metadata": {},
     "output_type": "execute_result"
    }
   ],
   "source": [
    "e2.stiffness()"
   ]
  },
  {
   "cell_type": "code",
   "execution_count": 241,
   "id": "blocked-israel",
   "metadata": {},
   "outputs": [
    {
     "data": {
      "text/plain": [
       "array([[ 30240000.        ,  40320000.        ,         0.        ,\n",
       "                0.        , -30240000.        , -40320000.        ],\n",
       "       [ 40320000.        ,  53760000.00000001,         0.        ,\n",
       "                0.        , -40320000.        , -53760000.00000001],\n",
       "       [        0.        ,         0.        ,         0.        ,\n",
       "                0.        ,         0.        ,         0.        ],\n",
       "       [        0.        ,         0.        ,         0.        ,\n",
       "                0.        ,         0.        ,         0.        ],\n",
       "       [-30240000.        , -40320000.        ,         0.        ,\n",
       "                0.        ,  30240000.        ,  40320000.        ],\n",
       "       [-40320000.        , -53760000.00000001,         0.        ,\n",
       "                0.        ,  40320000.        ,  53760000.00000001]])"
      ]
     },
     "execution_count": 241,
     "metadata": {},
     "output_type": "execute_result"
    }
   ],
   "source": [
    "e3.stiffness()"
   ]
  },
  {
   "cell_type": "code",
   "execution_count": 242,
   "id": "acceptable-workplace",
   "metadata": {},
   "outputs": [
    {
     "data": {
      "text/plain": [
       "array([[ 3.0240e+07,  4.0320e+07,  0.0000e+00,  0.0000e+00, -3.0240e+07,\n",
       "        -4.0320e+07],\n",
       "       [ 4.0320e+07,  1.5876e+08,  0.0000e+00, -1.0500e+08, -4.0320e+07,\n",
       "        -5.3760e+07],\n",
       "       [ 0.0000e+00,  0.0000e+00,  1.4000e+08,  0.0000e+00, -1.4000e+08,\n",
       "         0.0000e+00],\n",
       "       [ 0.0000e+00, -1.0500e+08,  0.0000e+00,  1.0500e+08,  0.0000e+00,\n",
       "         0.0000e+00],\n",
       "       [-3.0240e+07, -4.0320e+07, -1.4000e+08,  0.0000e+00,  1.7024e+08,\n",
       "         4.0320e+07],\n",
       "       [-4.0320e+07, -5.3760e+07,  0.0000e+00,  0.0000e+00,  4.0320e+07,\n",
       "         5.3760e+07]])"
      ]
     },
     "execution_count": 242,
     "metadata": {},
     "output_type": "execute_result"
    }
   ],
   "source": [
    "K = e1.stiffness() + e2.stiffness() + e3.stiffness()\n",
    "K"
   ]
  }
 ],
 "metadata": {
  "kernelspec": {
   "display_name": "Python 3",
   "language": "python",
   "name": "python3"
  },
  "language_info": {
   "codemirror_mode": {
    "name": "ipython",
    "version": 3
   },
   "file_extension": ".py",
   "mimetype": "text/x-python",
   "name": "python",
   "nbconvert_exporter": "python",
   "pygments_lexer": "ipython3",
   "version": "3.8.8"
  }
 },
 "nbformat": 4,
 "nbformat_minor": 5
}
