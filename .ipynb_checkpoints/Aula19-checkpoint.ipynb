{
 "cells": [
  {
   "cell_type": "code",
   "execution_count": 8,
   "id": "compound-shell",
   "metadata": {},
   "outputs": [],
   "source": [
    "from math import sqrt\n",
    "import numpy as np"
   ]
  },
  {
   "cell_type": "code",
   "execution_count": 4,
   "id": "funny-story",
   "metadata": {},
   "outputs": [],
   "source": [
    "L = 2         # m\n",
    "A = 0.02      # m²\n",
    "E = 200e9     # Pa | módulo de elasticidade\n",
    "P = 50e3      # N"
   ]
  },
  {
   "cell_type": "code",
   "execution_count": 63,
   "id": "bearing-riding",
   "metadata": {},
   "outputs": [],
   "source": [
    "nn = 3\n",
    "N = np.array([[0, L/2, L], [0, 0, 0]])"
   ]
  },
  {
   "cell_type": "code",
   "execution_count": 52,
   "id": "female-chassis",
   "metadata": {},
   "outputs": [],
   "source": [
    "# configuração\n",
    "N_ELEMENTS = 3\n",
    "N_NODES = 3\n",
    "MODULUS_OF_ELASTICITY = E # Módulo de elasticidade\n",
    "AREA = A # Area"
   ]
  },
  {
   "cell_type": "code",
   "execution_count": 147,
   "id": "complete-tampa",
   "metadata": {},
   "outputs": [],
   "source": [
    "class Node():\n",
    "    def __init__(self, x, y, value):\n",
    "        self.value = value\n",
    "        self.x = x\n",
    "        self.dx = None\n",
    "        self.y = y\n",
    "        self.dy = None\n",
    "        \n",
    "    def __repr__(self):\n",
    "        return f\"#{self.value} ({self.x}, {self.y})\"\n",
    "    \n",
    "    def dist(self, node):\n",
    "        return sqrt((self.x - node.x)**2 + (self.y - node.y)**2)\n",
    "\n",
    "class Element(): # barra\n",
    "    def __init__(self, node_1:Node, node_2:Node, E=MODULUS_OF_ELASTICITY, A=AREA):\n",
    "        self.node_1 = node_1\n",
    "        self.node_2 = node_2\n",
    "        self.length = node_1.dist(node_2)\n",
    "        self.S = E*A/self.length\n",
    "\n",
    "    @property\n",
    "    def connectivity(self):\n",
    "        connectivity_list = [0]*N_NODES\n",
    "        connectivity_list[self.node_1.value] = -1\n",
    "        connectivity_list[self.node_2.value] = 1\n",
    "        connectivity_list = np.array( [ connectivity_list ] )\n",
    "        return np.matmul(connectivity_list.T, connectivity_list)\n",
    "\n",
    "    @property\n",
    "    def stiffness(self):\n",
    "        return self.S*self.connectivity\n",
    "    \n",
    "    def __repr__(self):\n",
    "        return f\"{self.node_1} -> {self.node_2}\""
   ]
  },
  {
   "cell_type": "code",
   "execution_count": 148,
   "id": "bacterial-atlantic",
   "metadata": {},
   "outputs": [],
   "source": [
    "nodes = []\n",
    "for i, (x, y) in enumerate(N.T):\n",
    "    nodes.append(Node(x=N[0, i], y=N[1,i], value=i))"
   ]
  },
  {
   "cell_type": "code",
   "execution_count": 149,
   "id": "individual-activation",
   "metadata": {},
   "outputs": [
    {
     "data": {
      "text/plain": [
       "[#0 (0.0, 0.0), #1 (1.0, 0.0), #2 (2.0, 0.0)]"
      ]
     },
     "execution_count": 149,
     "metadata": {},
     "output_type": "execute_result"
    }
   ],
   "source": [
    "nodes"
   ]
  },
  {
   "cell_type": "code",
   "execution_count": 152,
   "id": "entertaining-certificate",
   "metadata": {},
   "outputs": [],
   "source": [
    "elementos = [\n",
    "    Element(nodes[0], nodes[1]),\n",
    "    Element(nodes[1], nodes[2])\n",
    "]"
   ]
  },
  {
   "cell_type": "code",
   "execution_count": 153,
   "id": "relevant-nashville",
   "metadata": {},
   "outputs": [
    {
     "name": "stdout",
     "output_type": "stream",
     "text": [
      "#0 (0.0, 0.0) -> #1 (1.0, 0.0)\n",
      "#1 (1.0, 0.0) -> #2 (2.0, 0.0)\n"
     ]
    }
   ],
   "source": [
    "print(elementos[0])\n",
    "print(elementos[1])"
   ]
  },
  {
   "cell_type": "code",
   "execution_count": 154,
   "id": "attractive-belize",
   "metadata": {},
   "outputs": [],
   "source": [
    "elemento = elementos[1]"
   ]
  },
  {
   "cell_type": "code",
   "execution_count": 155,
   "id": "straight-clearance",
   "metadata": {},
   "outputs": [
    {
     "data": {
      "text/plain": [
       "array([[ 0,  0,  0],\n",
       "       [ 0,  1, -1],\n",
       "       [ 0, -1,  1]])"
      ]
     },
     "execution_count": 155,
     "metadata": {},
     "output_type": "execute_result"
    }
   ],
   "source": [
    "elemento.connectivity"
   ]
  },
  {
   "cell_type": "code",
   "execution_count": 136,
   "id": "related-curve",
   "metadata": {},
   "outputs": [
    {
     "data": {
      "text/plain": [
       "array([[ 0.e+00,  0.e+00,  0.e+00],\n",
       "       [ 0.e+00,  4.e+09, -4.e+09],\n",
       "       [ 0.e+00, -4.e+09,  4.e+09]])"
      ]
     },
     "execution_count": 136,
     "metadata": {},
     "output_type": "execute_result"
    }
   ],
   "source": [
    "elemento.stiffness"
   ]
  },
  {
   "cell_type": "code",
   "execution_count": 157,
   "id": "social-thread",
   "metadata": {},
   "outputs": [
    {
     "data": {
      "text/plain": [
       "array([[ 4.e+09, -4.e+09,  0.e+00],\n",
       "       [-4.e+09,  8.e+09, -4.e+09],\n",
       "       [ 0.e+00, -4.e+09,  4.e+09]])"
      ]
     },
     "execution_count": 157,
     "metadata": {},
     "output_type": "execute_result"
    }
   ],
   "source": [
    "rigidez_total = sum([ el.stiffness for el in elementos ])\n",
    "rigidez_total"
   ]
  },
  {
   "cell_type": "code",
   "execution_count": null,
   "id": "unnecessary-trout",
   "metadata": {
    "scrolled": true
   },
   "outputs": [],
   "source": []
  },
  {
   "cell_type": "code",
   "execution_count": null,
   "id": "deadly-toolbox",
   "metadata": {},
   "outputs": [],
   "source": []
  }
 ],
 "metadata": {
  "kernelspec": {
   "display_name": "Python 3",
   "language": "python",
   "name": "python3"
  },
  "language_info": {
   "codemirror_mode": {
    "name": "ipython",
    "version": 3
   },
   "file_extension": ".py",
   "mimetype": "text/x-python",
   "name": "python",
   "nbconvert_exporter": "python",
   "pygments_lexer": "ipython3",
   "version": "3.8.8"
  }
 },
 "nbformat": 4,
 "nbformat_minor": 5
}
