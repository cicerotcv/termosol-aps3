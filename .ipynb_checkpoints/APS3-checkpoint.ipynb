{
 "cells": [
  {
   "cell_type": "code",
   "execution_count": 30,
   "id": "linear-alert",
   "metadata": {},
   "outputs": [],
   "source": [
    "from funcoesTermosol import geraSaida, importa, plota\n",
    "from math import sqrt"
   ]
  },
  {
   "cell_type": "code",
   "execution_count": 56,
   "id": "signed-biodiversity",
   "metadata": {},
   "outputs": [],
   "source": [
    "# Constantes\n",
    "E = 210e9         # Pa\n",
    "L = 4\n",
    "A = 2e-4"
   ]
  },
  {
   "cell_type": "code",
   "execution_count": 32,
   "id": "amended-edward",
   "metadata": {},
   "outputs": [],
   "source": [
    "[nn,N,nm,Inc,nc,F,nr,R] = importa('entrada.xlsx')"
   ]
  },
  {
   "cell_type": "markdown",
   "id": "micro-presence",
   "metadata": {},
   "source": [
    "Descrição das variáveis:\n",
    "\n",
    "```\n",
    "nn  -> número de nós\n",
    "N   -> matriz de nós\n",
    "nm  -> número de membros\n",
    "Inc -> matriz de incidência\n",
    "nc  -> número de cargas\n",
    "F   -> vetor de carregamento\n",
    "nr  -> número de restrições\n",
    "R   -> vetor com graus de liberdade restritos\n",
    "```"
   ]
  },
  {
   "cell_type": "code",
   "execution_count": 33,
   "id": "extensive-engagement",
   "metadata": {
    "scrolled": true
   },
   "outputs": [
    {
     "data": {
      "image/png": "[encoded data removed]",
      "text/plain": [
       "<Figure size 432x288 with 1 Axes>"
      ]
     },
     "metadata": {
      "needs_background": "light"
     },
     "output_type": "display_data"
    }
   ],
   "source": [
    "plota(N, Inc)"
   ]
  },
  {
   "cell_type": "code",
   "execution_count": 51,
   "id": "fancy-income",
   "metadata": {},
   "outputs": [],
   "source": [
    "class Node():\n",
    "    def __init__(self, x, y, value):\n",
    "        self.value = value\n",
    "        self.x = x\n",
    "        self.y = y\n",
    "\n",
    "    def __repr__(self):\n",
    "        return f\"#{self.value} ({self.x}, {self.y})\"\n",
    "    \n",
    "    def dist(self, node):\n",
    "        return sqrt((self.x - node.x)**2 + (self.y - node.y)**2)\n",
    "\n",
    "class Element(): # barra\n",
    "    def __init__(self, node_1:Node, node_2:Node):\n",
    "        self.node_1 = node_1\n",
    "        self.node_2 = node_2\n",
    "        self.length = node_1.dist(node_2)\n",
    "        self.A = A\n",
    "        \n",
    "    def __repr__(self):\n",
    "        return f\"{self.node_1} -> {self.node_2}\""
   ]
  },
  {
   "cell_type": "code",
   "execution_count": 52,
   "id": "northern-conservative",
   "metadata": {},
   "outputs": [],
   "source": [
    "nodes = []\n",
    "for i in range(nn):\n",
    "    nodes.append(Node(x=N[0,i], y=N[1,i], value=i))"
   ]
  },
  {
   "cell_type": "code",
   "execution_count": 53,
   "id": "intense-traffic",
   "metadata": {},
   "outputs": [
    {
     "name": "stdout",
     "output_type": "stream",
     "text": [
      "[#0 (0.0, 0.0), #1 (0.0, 0.4), #2 (0.3, 0.4)]\n"
     ]
    }
   ],
   "source": [
    "print(nodes)"
   ]
  },
  {
   "cell_type": "code",
   "execution_count": 54,
   "id": "emotional-ontario",
   "metadata": {},
   "outputs": [],
   "source": [
    "elementos = [\n",
    "    Element(nodes[0], nodes[1]),\n",
    "    Element(nodes[0], nodes[2]),\n",
    "    Element(nodes[1], nodes[2])\n",
    "]"
   ]
  },
  {
   "cell_type": "code",
   "execution_count": 55,
   "id": "reserved-testing",
   "metadata": {},
   "outputs": [
    {
     "data": {
      "text/plain": [
       "[#0 (0.0, 0.0) -> #1 (0.0, 0.4),\n",
       " #0 (0.0, 0.0) -> #2 (0.3, 0.4),\n",
       " #1 (0.0, 0.4) -> #2 (0.3, 0.4)]"
      ]
     },
     "execution_count": 55,
     "metadata": {},
     "output_type": "execute_result"
    }
   ],
   "source": [
    "elementos"
   ]
  },
  {
   "cell_type": "code",
   "execution_count": 59,
   "id": "local-german",
   "metadata": {},
   "outputs": [
    {
     "data": {
      "text/plain": [
       "array([[0. , 0. , 0.3],\n",
       "       [0. , 0.4, 0.4]])"
      ]
     },
     "execution_count": 59,
     "metadata": {},
     "output_type": "execute_result"
    }
   ],
   "source": [
    "N"
   ]
  },
  {
   "cell_type": "code",
   "execution_count": 58,
   "id": "animated-plant",
   "metadata": {
    "scrolled": true
   },
   "outputs": [
    {
     "data": {
      "text/plain": [
       "array([[1.0e+00, 2.0e+00, 2.1e+11, 2.0e-04],\n",
       "       [2.0e+00, 3.0e+00, 2.1e+11, 2.0e-04],\n",
       "       [3.0e+00, 1.0e+00, 2.1e+11, 2.0e-04]])"
      ]
     },
     "execution_count": 58,
     "metadata": {},
     "output_type": "execute_result"
    }
   ],
   "source": [
    "Inc"
   ]
  }
 ],
 "metadata": {
  "kernelspec": {
   "display_name": "Python 3",
   "language": "python",
   "name": "python3"
  },
  "language_info": {
   "codemirror_mode": {
    "name": "ipython",
    "version": 3
   },
   "file_extension": ".py",
   "mimetype": "text/x-python",
   "name": "python",
   "nbconvert_exporter": "python",
   "pygments_lexer": "ipython3",
   "version": "3.8.8"
  }
 },
 "nbformat": 4,
 "nbformat_minor": 5
}
