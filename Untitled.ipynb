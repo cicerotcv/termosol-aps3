{
 "cells": [
  {
   "cell_type": "code",
   "execution_count": 2,
   "id": "lucky-intellectual",
   "metadata": {},
   "outputs": [],
   "source": [
    "import numpy as np"
   ]
  },
  {
   "cell_type": "code",
   "execution_count": 30,
   "id": "referenced-freight",
   "metadata": {},
   "outputs": [],
   "source": [
    "A = np.array([\n",
    "    [4, 2, 1],\n",
    "    [2, 5, 2],\n",
    "    [3, 1, 7]\n",
    "])\n",
    "b = np.array([[27, 49, 48]])"
   ]
  },
  {
   "cell_type": "code",
   "execution_count": 4,
   "id": "broken-leeds",
   "metadata": {},
   "outputs": [
    {
     "data": {
      "text/plain": [
       "48"
      ]
     },
     "execution_count": 4,
     "metadata": {},
     "output_type": "execute_result"
    }
   ],
   "source": [
    "3*2 + 7 + 7*5"
   ]
  },
  {
   "cell_type": "code",
   "execution_count": 5,
   "id": "korean-stewart",
   "metadata": {},
   "outputs": [],
   "source": [
    "x = np.zeros((len(A), 1))   # column\n",
    "D = np.diag(A)              # array-like\n",
    "R = A - np.diagflat(D)      # square | diag == 0\n",
    "D = np.array([D]).T"
   ]
  },
  {
   "cell_type": "code",
   "execution_count": 6,
   "id": "committed-quebec",
   "metadata": {},
   "outputs": [
    {
     "name": "stdout",
     "output_type": "stream",
     "text": [
      "x:\n",
      " [[0.]\n",
      " [0.]\n",
      " [0.]]\n",
      "D:\n",
      " [[3]\n",
      " [5]\n",
      " [7]]\n",
      "R:\n",
      " [[0 2 1]\n",
      " [2 0 2]\n",
      " [3 1 0]]\n"
     ]
    }
   ],
   "source": [
    "print(\"x:\\n\", x)\n",
    "print(\"D:\\n\", D)\n",
    "print(\"R:\\n\", R)"
   ]
  },
  {
   "cell_type": "code",
   "execution_count": 7,
   "id": "popular-opinion",
   "metadata": {},
   "outputs": [
    {
     "data": {
      "text/plain": [
       "array([[25],\n",
       "       [49],\n",
       "       [48]])"
      ]
     },
     "execution_count": 7,
     "metadata": {},
     "output_type": "execute_result"
    }
   ],
   "source": [
    "b.T"
   ]
  },
  {
   "cell_type": "code",
   "execution_count": 39,
   "id": "destroyed-folks",
   "metadata": {},
   "outputs": [],
   "source": [
    "def is_dominant(A):\n",
    "    for i in range(A.shape[0]):\n",
    "        sigma = A[i,:].copy()\n",
    "        sigma[i] = 0\n",
    "        condition = A[i,i] < np.sum(np.abs( sigma ))\n",
    "        if condition:\n",
    "            return False, i, sigma, A[i,i]\n",
    "        return True, np.sum(np.abs( sigma ))"
   ]
  },
  {
   "cell_type": "code",
   "execution_count": 40,
   "id": "roman-outdoors",
   "metadata": {},
   "outputs": [],
   "source": [
    "A = np.array([[ 1.11205398e+10, -4.72500000e+09,  0.00000000e+00,  0.00000000e+00,\n",
    "   0.00000000e+00,  0.00000000e+00 , 0.00000000e+00 , 0.00000000e+00,\n",
    "   0.00000000e+00 ,-1.67053977e+09 ,-1.67053977e+09],\n",
    " [-4.72500000e+09,  9.45000000e+09 ,-4.72500000e+09,  0.00000000e+00,\n",
    "   0.00000000e+00,  0.00000000e+00 , 0.00000000e+00 , 0.00000000e+00,\n",
    "   0.00000000e+00 , 0.00000000e+00 , 0.00000000e+00],\n",
    " [ 0.00000000e+00 ,-4.72500000e+09 , 1.11205398e+10 , 0.00000000e+00,\n",
    "   0.00000000e+00 , 0.00000000e+00 , 0.00000000e+00 , 0.00000000e+00,\n",
    "   0.00000000e+00 ,-1.67053977e+09 , 1.67053977e+09],\n",
    " [ 0.00000000e+00 , 0.00000000e+00 , 0.00000000e+00 , 8.06607954e+09,\n",
    "  -3.34107954e+09 ,-1.67053977e+09,  1.67053977e+09 , 0.00000000e+00,\n",
    "   0.00000000e+00, -4.72500000e+09 , 0.00000000e+00],\n",
    " [ 0.00000000e+00,  0.00000000e+00,  0.00000000e+00, -3.34107954e+09,\n",
    "   8.06607954e+09 , 1.67053977e+09, -1.67053977e+09 , 0.00000000e+00,\n",
    "   0.00000000e+00,  0.00000000e+00 , 0.00000000e+00],\n",
    " [ 0.00000000e+00,  0.00000000e+00  ,0.00000000e+00, -1.67053977e+09,\n",
    "   1.67053977e+09,  3.34107954e+09 , 0.00000000e+00 ,-1.67053977e+09,\n",
    "  -1.67053977e+09,  0.00000000e+00 , 0.00000000e+00],\n",
    " [ 0.00000000e+00,  0.00000000e+00 , 0.00000000e+00,  1.67053977e+09,\n",
    "  -1.67053977e+09,  0.00000000e+00 , 8.06607954e+09 ,-1.67053977e+09,\n",
    "  -1.67053977e+09,  0.00000000e+00, -4.72500000e+09],\n",
    " [ 0.00000000e+00,  0.00000000e+00 , 0.00000000e+00,  0.00000000e+00,\n",
    "   0.00000000e+00, -1.67053977e+09 ,-1.67053977e+09 , 8.06607954e+09,\n",
    "   3.34107954e+09, -4.72500000e+09,  0.00000000e+00],\n",
    " [ 0.00000000e+00,  0.00000000e+00,  0.00000000e+00 , 0.00000000e+00,\n",
    "   0.00000000e+00 ,-1.67053977e+09, -1.67053977e+09 , 3.34107954e+09,\n",
    "   8.06607954e+09,  0.00000000e+00 , 0.00000000e+00],\n",
    " [-1.67053977e+09,  0.00000000e+00, -1.67053977e+09, -4.72500000e+09,\n",
    "   0.00000000e+00,  0.00000000e+00,  0.00000000e+00, -4.72500000e+09,\n",
    "   0.00000000e+00 , 1.27910795e+10,  0.00000000e+00],\n",
    " [-1.67053977e+09,  0.00000000e+00,  1.67053977e+09,  0.00000000e+00,\n",
    "   0.00000000e+00 , 0.00000000e+00 ,-4.72500000e+09,  0.00000000e+00,\n",
    "   0.00000000e+00 , 0.00000000e+00 , 1.27910795e+10]])\n",
    "b = np.array([[\n",
    "            0,\n",
    "            0,\n",
    "            0,\n",
    "            0,\n",
    "            0,\n",
    "         2000,\n",
    "       -10000,\n",
    "         2000,\n",
    "            0,\n",
    "            0,\n",
    "            0]])"
   ]
  },
  {
   "cell_type": "code",
   "execution_count": 41,
   "id": "curious-budapest",
   "metadata": {},
   "outputs": [
    {
     "name": "stdout",
     "output_type": "stream",
     "text": [
      "System:\n",
      "11120539800.0*x1 + -4725000000.0*x2 + 0.0*x3 + 0.0*x4 + 0.0*x5 + 0.0*x6 + 0.0*x7 + 0.0*x8 + 0.0*x9 + -1670539770.0*x10 + -1670539770.0*x11 = 0\n",
      "-4725000000.0*x1 + 9450000000.0*x2 + -4725000000.0*x3 + 0.0*x4 + 0.0*x5 + 0.0*x6 + 0.0*x7 + 0.0*x8 + 0.0*x9 + 0.0*x10 + 0.0*x11 = 0\n",
      "0.0*x1 + -4725000000.0*x2 + 11120539800.0*x3 + 0.0*x4 + 0.0*x5 + 0.0*x6 + 0.0*x7 + 0.0*x8 + 0.0*x9 + -1670539770.0*x10 + 1670539770.0*x11 = 0\n",
      "0.0*x1 + 0.0*x2 + 0.0*x3 + 8066079540.0*x4 + -3341079540.0*x5 + -1670539770.0*x6 + 1670539770.0*x7 + 0.0*x8 + 0.0*x9 + -4725000000.0*x10 + 0.0*x11 = 0\n",
      "0.0*x1 + 0.0*x2 + 0.0*x3 + -3341079540.0*x4 + 8066079540.0*x5 + 1670539770.0*x6 + -1670539770.0*x7 + 0.0*x8 + 0.0*x9 + 0.0*x10 + 0.0*x11 = 0\n",
      "0.0*x1 + 0.0*x2 + 0.0*x3 + -1670539770.0*x4 + 1670539770.0*x5 + 3341079540.0*x6 + 0.0*x7 + -1670539770.0*x8 + -1670539770.0*x9 + 0.0*x10 + 0.0*x11 = 2000\n",
      "0.0*x1 + 0.0*x2 + 0.0*x3 + 1670539770.0*x4 + -1670539770.0*x5 + 0.0*x6 + 8066079540.0*x7 + -1670539770.0*x8 + -1670539770.0*x9 + 0.0*x10 + -4725000000.0*x11 = -10000\n",
      "0.0*x1 + 0.0*x2 + 0.0*x3 + 0.0*x4 + 0.0*x5 + -1670539770.0*x6 + -1670539770.0*x7 + 8066079540.0*x8 + 3341079540.0*x9 + -4725000000.0*x10 + 0.0*x11 = 2000\n",
      "0.0*x1 + 0.0*x2 + 0.0*x3 + 0.0*x4 + 0.0*x5 + -1670539770.0*x6 + -1670539770.0*x7 + 3341079540.0*x8 + 8066079540.0*x9 + 0.0*x10 + 0.0*x11 = 0\n",
      "-1670539770.0*x1 + 0.0*x2 + -1670539770.0*x3 + -4725000000.0*x4 + 0.0*x5 + 0.0*x6 + 0.0*x7 + -4725000000.0*x8 + 0.0*x9 + 12791079500.0*x10 + 0.0*x11 = 0\n",
      "-1670539770.0*x1 + 0.0*x2 + 1670539770.0*x3 + 0.0*x4 + 0.0*x5 + 0.0*x6 + -4725000000.0*x7 + 0.0*x8 + 0.0*x9 + 0.0*x10 + 12791079500.0*x11 = 0\n",
      "\n",
      "Solution:\n",
      "[0 0 0 0 0 0 0 0 0 0 0]\n",
      "Error:\n",
      "[    0.     0.     0.     0.     0. -2000. 10000. -2000.     0.     0.\n",
      "     0.]\n"
     ]
    }
   ],
   "source": [
    "ITERATION_LIMIT = 1000\n",
    "b = b.T[:,0]\n",
    "# prints the system\n",
    "print(\"System:\")\n",
    "for i in range(A.shape[0]):\n",
    "    row = [\"{}*x{}\".format(A[i, j], j + 1) for j in range(A.shape[1])]\n",
    "    print(\" + \".join(row), \"=\", b[i])\n",
    "print()\n",
    "\n",
    "x = np.zeros_like(b)\n",
    "for it_count in range(ITERATION_LIMIT):\n",
    "    if it_count != 0:\n",
    "        print(\"Iteration {0}: {1}\".format(it_count, x))\n",
    "    x_new = np.zeros_like(x)\n",
    "\n",
    "    for i in range(A.shape[0]):\n",
    "        s1 = np.dot(A[i, :i], x[:i])\n",
    "        s2 = np.dot(A[i, i + 1:], x[i + 1:])\n",
    "        x_new[i] = (b[i] - s1 - s2) / A[i, i]\n",
    "        if x_new[i] == x_new[i-1]:\n",
    "          break\n",
    "\n",
    "    if np.allclose(x, x_new, atol=1e-10, rtol=0.):\n",
    "        break\n",
    "\n",
    "    x = x_new\n",
    "\n",
    "print(\"Solution:\")\n",
    "print(x)\n",
    "error = np.dot(A, x) - b\n",
    "print(\"Error:\")\n",
    "print(error)"
   ]
  },
  {
   "cell_type": "code",
   "execution_count": 2167,
   "id": "median-column",
   "metadata": {},
   "outputs": [
    {
     "data": {
      "text/plain": [
       "array([[ 8.33333333],\n",
       "       [ 9.8       ],\n",
       "       [11.5       ]])"
      ]
     },
     "execution_count": 2167,
     "metadata": {},
     "output_type": "execute_result"
    }
   ],
   "source": [
    "sol"
   ]
  }
 ],
 "metadata": {
  "kernelspec": {
   "display_name": "Python 3",
   "language": "python",
   "name": "python3"
  },
  "language_info": {
   "codemirror_mode": {
    "name": "ipython",
    "version": 3
   },
   "file_extension": ".py",
   "mimetype": "text/x-python",
   "name": "python",
   "nbconvert_exporter": "python",
   "pygments_lexer": "ipython3",
   "version": "3.8.8"
  }
 },
 "nbformat": 4,
 "nbformat_minor": 5
}
